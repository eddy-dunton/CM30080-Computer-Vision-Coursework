{
 "cells": [
  {
   "cell_type": "code",
   "execution_count": 84,
   "metadata": {
    "collapsed": true
   },
   "outputs": [],
   "source": [
    "import math\n",
    "import cv2  as cv\n",
    "import os\n",
    "import pprint\n",
    "import numpy as np\n",
    "from matplotlib import pyplot as plt\n",
    "\n",
    "p = pprint.PrettyPrinter()"
   ]
  },
  {
   "cell_type": "code",
   "execution_count": 85,
   "outputs": [],
   "source": [
    "# Load images and detect lines\n",
    "files = [f for f in os.listdir(\".\") if f.startswith(\"image\")]\n",
    "\n",
    "hough_lines = []\n",
    "\n",
    "for f in files:\n",
    "    img = cv.imread(f, cv.IMREAD_GRAYSCALE)\n",
    "    edges = cv.Canny(img, 100, 200)\n",
    "    hough_lines.append(cv.HoughLines(edges, 1, math.pi / 180, 10, None, 0, 0))"
   ],
   "metadata": {
    "collapsed": false,
    "pycharm": {
     "name": "#%%\n"
    }
   }
  },
  {
   "cell_type": "code",
   "execution_count": 86,
   "outputs": [],
   "source": [
    "# Perform k means clustering to get just 2 lines\n",
    "\n",
    "# If this doesn't perform well enough consider:\n",
    "#   - Decreasing the threshold in the cv.HoughLines call (although this will likely increase processing time)\n",
    "#   - Improving the cluster init points\n",
    "#   - Tweaking the criteria\n",
    "\n",
    "lines = []\n",
    "\n",
    "# Criteria used in the OpenCV example, seems to do the trick\n",
    "criteria = (cv.TERM_CRITERIA_EPS + cv.TERM_CRITERIA_MAX_ITER, 10, 1.0)\n",
    "\n",
    "for l in hough_lines:\n",
    "    # This could be improved by moving the starting clusters to the 2 points the furthest apart\n",
    "    _, _, centres = cv.kmeans(l,2,None,criteria,10,cv.KMEANS_RANDOM_CENTERS)\n",
    "\n",
    "    lines.append(centres)"
   ],
   "metadata": {
    "collapsed": false,
    "pycharm": {
     "name": "#%%\n"
    }
   }
  },
  {
   "cell_type": "code",
   "execution_count": 89,
   "outputs": [
    {
     "name": "stdout",
     "output_type": "stream",
     "text": [
      "image1.png angle: 0.889 rads / 51.0 degrees\n",
      "image10.png angle: 1.584 rads / 90.8 degrees\n",
      "image2.png angle: 0.706 rads / 40.5 degrees\n",
      "image3.png angle: 1.204 rads / 69.0 degrees\n",
      "image4.png angle: 2.449 rads / 140.3 degrees\n",
      "image5.png angle: 1.192 rads / 68.3 degrees\n",
      "image6.png angle: 1.376 rads / 78.8 degrees\n",
      "image7.png angle: 1.889 rads / 108.2 degrees\n",
      "image8.png angle: 2.299 rads / 131.7 degrees\n",
      "image9.png angle: 0.678 rads / 38.9 degrees\n"
     ]
    }
   ],
   "source": [
    "# Calculate angle\n",
    "for i, f in enumerate(files):\n",
    "    rads = math.pi - math.fabs(lines[i][0][1] - lines[i][1][1])\n",
    "    degrees = rads * 180 / math.pi\n",
    "    print(\"{} angle: {:.3f} rads / {:.1f} degrees\".format(f, rads, degrees))"
   ],
   "metadata": {
    "collapsed": false,
    "pycharm": {
     "name": "#%%\n"
    }
   }
  }
 ],
 "metadata": {
  "kernelspec": {
   "display_name": "Python 3",
   "language": "python",
   "name": "python3"
  },
  "language_info": {
   "codemirror_mode": {
    "name": "ipython",
    "version": 2
   },
   "file_extension": ".py",
   "mimetype": "text/x-python",
   "name": "python",
   "nbconvert_exporter": "python",
   "pygments_lexer": "ipython2",
   "version": "2.7.6"
  }
 },
 "nbformat": 4,
 "nbformat_minor": 0
}